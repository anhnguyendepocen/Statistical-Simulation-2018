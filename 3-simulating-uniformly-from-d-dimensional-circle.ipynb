{
 "cells": [
  {
   "cell_type": "code",
   "execution_count": 2,
   "metadata": {},
   "outputs": [],
   "source": [
    "import numpy as np\n",
    "import matplotlib.pyplot as plt"
   ]
  },
  {
   "cell_type": "markdown",
   "metadata": {},
   "source": [
    "## Using accept-reject"
   ]
  },
  {
   "cell_type": "code",
   "execution_count": 2,
   "metadata": {},
   "outputs": [],
   "source": [
    "dls = [2, 5, 10, 11, 12, 13, 14, 15]\n",
    "npts = [100, 1000, 10000]\n",
    "NPOINTS = 100"
   ]
  },
  {
   "cell_type": "code",
   "execution_count": 3,
   "metadata": {},
   "outputs": [],
   "source": [
    "total_iter = np.zeros(len(dls))"
   ]
  },
  {
   "cell_type": "code",
   "execution_count": 4,
   "metadata": {},
   "outputs": [
    {
     "name": "stdout",
     "output_type": "stream",
     "text": [
      "Points generated for d =  2\n",
      "Points generated for d =  5\n",
      "Points generated for d =  10\n",
      "Points generated for d =  11\n",
      "Points generated for d =  12\n",
      "Points generated for d =  13\n",
      "Points generated for d =  14\n",
      "Points generated for d =  15\n"
     ]
    }
   ],
   "source": [
    "for idx, d in enumerate(dls):\n",
    "    count = 0\n",
    "    while count != NPOINTS:\n",
    "        x = np.random.uniform(low = -1.0, high = 1.0, size = d)\n",
    "        if np.linalg.norm(x) < 1:\n",
    "            count = count +1\n",
    "        total_iter[idx] += 1\n",
    "    print(\"Points generated for d = \", d)"
   ]
  },
  {
   "cell_type": "code",
   "execution_count": 35,
   "metadata": {},
   "outputs": [
    {
     "name": "stdout",
     "output_type": "stream",
     "text": [
      "2  &  1.4\n",
      "5  &  7.54\n",
      "10  &  384.1\n",
      "11  &  1189.32\n",
      "12  &  3662.61\n",
      "13  &  9276.96\n",
      "14  &  27464.29\n",
      "15  &  98154.31\n"
     ]
    }
   ],
   "source": [
    "x = total_iter/NPOINTS\n",
    "for i, d in zip(x, dls):\n",
    "    print (d, ' & ',i )"
   ]
  },
  {
   "cell_type": "code",
   "execution_count": 32,
   "metadata": {
    "scrolled": true
   },
   "outputs": [
    {
     "data": {
      "image/png": "[encoded data removed]",
      "text/plain": [
       "<Figure size 432x288 with 1 Axes>"
      ]
     },
     "metadata": {},
     "output_type": "display_data"
    }
   ],
   "source": [
    "plt.plot(dls, total_iter/(10*NPOINTS), 'o--')\n",
    "plt.xlabel('d (dimension of circle)')\n",
    "plt.ylabel('Number of points generated to accept  one point in circle')\n",
    "plt.savefig('Image-Q3/acept-reject.png')"
   ]
  },
  {
   "cell_type": "markdown",
   "metadata": {},
   "source": [
    "## MCMC"
   ]
  },
  {
   "cell_type": "code",
   "execution_count": 75,
   "metadata": {},
   "outputs": [],
   "source": [
    "dls = [2, 5, 10, 15, 20, 25, 30, 35, 40, 45,  50]\n",
    "npts = [100, 1000, 10000]\n",
    "NPOINTS = 100"
   ]
  },
  {
   "cell_type": "code",
   "execution_count": 37,
   "metadata": {},
   "outputs": [],
   "source": []
  },
  {
   "cell_type": "code",
   "execution_count": 38,
   "metadata": {},
   "outputs": [],
   "source": [
    "def identity(x):\n",
    "    if np.linalg.norm(x) < 1:\n",
    "        return 1\n",
    "    else:\n",
    "        return 0"
   ]
  },
  {
   "cell_type": "code",
   "execution_count": 46,
   "metadata": {},
   "outputs": [],
   "source": [
    "def compute_alpha(w, x):\n",
    "    if identity(w) == 0:\n",
    "        return 0\n",
    "    else:\n",
    "        return 1"
   ]
  },
  {
   "cell_type": "code",
   "execution_count": 49,
   "metadata": {},
   "outputs": [],
   "source": [
    "def generate_w(xold, d):\n",
    "    w = np.zeros(d)\n",
    "    for idx in range(d):\n",
    "        w[idx] = np.random.uniform(low = xold[idx] - 0.2, high = xold[idx] + 0.2, size = 1)\n",
    "    return w"
   ]
  },
  {
   "cell_type": "code",
   "execution_count": 71,
   "metadata": {},
   "outputs": [
    {
     "name": "stdout",
     "output_type": "stream",
     "text": [
      "Points generated for d =  2\n",
      "Points generated for d =  5\n",
      "Points generated for d =  10\n",
      "Points generated for d =  15\n",
      "Points generated for d =  20\n",
      "Points generated for d =  25\n",
      "Points generated for d =  30\n",
      "Points generated for d =  35\n",
      "Points generated for d =  40\n",
      "Points generated for d =  45\n",
      "Points generated for d =  50\n"
     ]
    }
   ],
   "source": [
    "total_iter = np.zeros(len(dls))\n",
    "for idx, d in enumerate(dls):\n",
    "    count = 0\n",
    "    xold = np.zeros(d)\n",
    "    while count != NPOINTS:\n",
    "        w = generate_w(xold, d)\n",
    "        alpha = compute_alpha(w, x)\n",
    "        u = np.random.uniform(size = 1)\n",
    "        if u < alpha:\n",
    "            xold = w\n",
    "            count = count +1\n",
    "        total_iter[idx] += 1\n",
    "    print(\"Points generated for d = \", d)"
   ]
  },
  {
   "cell_type": "code",
   "execution_count": 77,
   "metadata": {},
   "outputs": [
    {
     "name": "stdout",
     "output_type": "stream",
     "text": [
      "2  &  1.14\n",
      "5  &  1.28\n",
      "10  &  1.72\n",
      "15  &  2.76\n",
      "20  &  3.89\n",
      "25  &  6.85\n",
      "30  &  15.45\n",
      "35  &  26.72\n",
      "40  &  54.77\n",
      "45  &  107.71\n",
      "50  &  363.42\n"
     ]
    }
   ],
   "source": [
    "x = total_iter/NPOINTS\n",
    "for i, d in zip(x, dls):\n",
    "    print (d, ' & ',i )"
   ]
  },
  {
   "cell_type": "code",
   "execution_count": 76,
   "metadata": {
    "scrolled": true
   },
   "outputs": [
    {
     "data": {
      "image/png": "[encoded data removed]",
      "text/plain": [
       "<Figure size 432x288 with 1 Axes>"
      ]
     },
     "metadata": {},
     "output_type": "display_data"
    }
   ],
   "source": [
    "plt.plot(dls, total_iter/(NPOINTS), 'o--')\n",
    "plt.xlabel('d (dimension of circle)')\n",
    "plt.ylabel('Number of points generated to accept  one point in circle')\n",
    "plt.savefig('Image-Q3/mcmc.png')"
   ]
  },
  {
   "cell_type": "markdown",
   "metadata": {},
   "source": [
    "## Using Spherical Symmetry"
   ]
  },
  {
   "cell_type": "code",
   "execution_count": 1,
   "metadata": {},
   "outputs": [],
   "source": [
    "dls = [2, 5, 10, 15, 20, 25, 30, 35, 40, 45,  50]\n",
    "npts = [100, 1000, 10000]\n",
    "NPOINTS = 100"
   ]
  },
  {
   "cell_type": "code",
   "execution_count": 3,
   "metadata": {},
   "outputs": [],
   "source": [
    "def normal_box_muller(n):\n",
    "    a = np.zeros((2, n))\n",
    "    u1 = np.random.uniform(size=n)\n",
    "    u2 = np.random.uniform(size=n)\n",
    "    a[0] = np.sqrt(-2*np.log(u1))* np.cos(2*np.pi*u2)\n",
    "    a[1] = np.sqrt(-2*np.log(u1))* np.sin(2*np.pi*u2)\n",
    "    return a[0]"
   ]
  },
  {
   "cell_type": "code",
   "execution_count": 5,
   "metadata": {},
   "outputs": [
    {
     "name": "stdout",
     "output_type": "stream",
     "text": [
      "Points generated for d =  2\n",
      "Points generated for d =  5\n",
      "Points generated for d =  10\n",
      "Points generated for d =  15\n",
      "Points generated for d =  20\n",
      "Points generated for d =  25\n",
      "Points generated for d =  30\n",
      "Points generated for d =  35\n",
      "Points generated for d =  40\n",
      "Points generated for d =  45\n",
      "Points generated for d =  50\n"
     ]
    }
   ],
   "source": [
    "total_iter = np.zeros(len(dls))\n",
    "for idx, d in enumerate(dls):\n",
    "    count = 0\n",
    "    while count != NPOINTS:\n",
    "        u = np.random.uniform(size = 1)\n",
    "        r = u**(1.0/d)\n",
    "        x = normal_box_muller(d)\n",
    "        y = r*x/np.linalg.norm(x)\n",
    "        if np.linalg.norm(y) >1:\n",
    "            print(\"Wrong point generated\")\n",
    "        count = count +1\n",
    "        total_iter[idx] += 1\n",
    "    print(\"Points generated for d = \", d)"
   ]
  },
  {
   "cell_type": "code",
   "execution_count": 6,
   "metadata": {},
   "outputs": [
    {
     "name": "stdout",
     "output_type": "stream",
     "text": [
      "2  &  1.0\n",
      "5  &  1.0\n",
      "10  &  1.0\n",
      "15  &  1.0\n",
      "20  &  1.0\n",
      "25  &  1.0\n",
      "30  &  1.0\n",
      "35  &  1.0\n",
      "40  &  1.0\n",
      "45  &  1.0\n",
      "50  &  1.0\n"
     ]
    }
   ],
   "source": [
    "x = total_iter/NPOINTS\n",
    "for i, d in zip(x, dls):\n",
    "    print (d, ' & ',i )"
   ]
  },
  {
   "cell_type": "code",
   "execution_count": 7,
   "metadata": {},
   "outputs": [
    {
     "data": {
      "image/png": "[encoded data removed]",
      "text/plain": [
       "<Figure size 432x288 with 1 Axes>"
      ]
     },
     "metadata": {},
     "output_type": "display_data"
    }
   ],
   "source": [
    "plt.plot(dls, total_iter/(NPOINTS), 'o--')\n",
    "plt.xlabel('d (dimension of circle)')\n",
    "plt.ylabel('Number of points generated to accept  one point in circle')\n",
    "plt.savefig('Image-Q3/spherical.png')"
   ]
  }
 ],
 "metadata": {
  "kernelspec": {
   "display_name": "Python 3",
   "language": "python",
   "name": "python3"
  },
  "language_info": {
   "codemirror_mode": {
    "name": "ipython",
    "version": 3
   },
   "file_extension": ".py",
   "mimetype": "text/x-python",
   "name": "python",
   "nbconvert_exporter": "python",
   "pygments_lexer": "ipython3",
   "version": "3.6.5"
  }
 },
 "nbformat": 4,
 "nbformat_minor": 2
}
