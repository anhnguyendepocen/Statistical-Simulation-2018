{
 "cells": [
  {
   "cell_type": "code",
   "execution_count": 1,
   "metadata": {},
   "outputs": [],
   "source": [
    "import numpy as np\n",
    "import matplotlib.pyplot as plt"
   ]
  },
  {
   "cell_type": "markdown",
   "metadata": {},
   "source": [
    "## EM Algorithm"
   ]
  },
  {
   "cell_type": "code",
   "execution_count": 2,
   "metadata": {},
   "outputs": [],
   "source": [
    "NITER = 10"
   ]
  },
  {
   "cell_type": "code",
   "execution_count": 3,
   "metadata": {},
   "outputs": [],
   "source": [
    "#starting value N: 25, 50, 100, 150\n",
    "#N: Na, Nb, Nab, No\n",
    "#Starting p: 1/3, 1/3, 1/3\n",
    "#p: pa, pb, po"
   ]
  },
  {
   "cell_type": "code",
   "execution_count": 4,
   "metadata": {},
   "outputs": [],
   "source": [
    "npheno = np.zeros(4)\n",
    "pls = [[1.0/3,1.0/3,  1.0/3], [0.25, .25, .50], [0.8, 0.1, 0.1], [0.2, 0.3, .5]]\n",
    "p = np.zeros(3) + 1.0/3\n",
    "npheno[0], npheno[1], npheno[2], npheno[3] =  25, 50, 100, 150"
   ]
  },
  {
   "cell_type": "code",
   "execution_count": 5,
   "metadata": {},
   "outputs": [
    {
     "name": "stdout",
     "output_type": "stream",
     "text": [
      "[0.33333333 0.33333333 0.33333333] 325.0\n"
     ]
    }
   ],
   "source": [
    "print(p, npheno.sum())"
   ]
  },
  {
   "cell_type": "code",
   "execution_count": 6,
   "metadata": {},
   "outputs": [],
   "source": [
    "def em_algo(npheno, p):\n",
    "    #Expectation step\n",
    "    Naa = npheno[0]*(p[0]**2/(p[0]**2 + 2*p[0]*p[2]))\n",
    "    Nao = npheno[0]*(2*p[0]*p[2]/(p[0]**2 + 2*p[0]*p[2]))\n",
    "    Nbb = npheno[1]*(p[1]**2/(p[1]**2 + 2*p[1]*p[2]))\n",
    "    Nbo = npheno[1]*(2*p[1]*p[2]/(p[1]**2 + 2*p[1]*p[2]))\n",
    "    Nab = npheno[2]\n",
    "    No = npheno[3]\n",
    "    \n",
    "    #Maximization\n",
    "    p[0] = (2*Naa + Nao + Nab)/(2*npheno.sum())\n",
    "    p[1] = (2*Nbb + Nbo + Nab)/(2*npheno.sum())\n",
    "    p[2] = (Nao + Nbo + No)/(2*npheno.sum())\n",
    "    \n",
    "    return p"
   ]
  },
  {
   "cell_type": "code",
   "execution_count": 8,
   "metadata": {},
   "outputs": [
    {
     "name": "stdout",
     "output_type": "stream",
     "text": [
      "0  &  0.20163  &  0.25280  &  0.31478\n",
      "1  &  0.20163  &  0.25280  &  0.31478\n",
      "2  &  0.20163  &  0.25280  &  0.31478\n",
      "3  &  0.20163  &  0.25280  &  0.31478\n",
      "4  &  0.20163  &  0.25280  &  0.31478\n",
      "5  &  0.20163  &  0.25280  &  0.31478\n",
      "6  &  0.20163  &  0.25280  &  0.31478\n",
      "7  &  0.20163  &  0.25280  &  0.31478\n",
      "8  &  0.20163  &  0.25280  &  0.31478\n",
      "9  &  0.20163  &  0.25280  &  0.31478\n",
      "10  &  0.20163  &  0.25280  &  0.31478\n",
      "-------------------------------\n",
      "0  &  0.20163  &  0.25280  &  0.31478\n",
      "1  &  0.20163  &  0.25280  &  0.31478\n",
      "2  &  0.20163  &  0.25280  &  0.31478\n",
      "3  &  0.20163  &  0.25280  &  0.31478\n",
      "4  &  0.20163  &  0.25280  &  0.31478\n",
      "5  &  0.20163  &  0.25280  &  0.31478\n",
      "6  &  0.20163  &  0.25280  &  0.31478\n",
      "7  &  0.20163  &  0.25280  &  0.31478\n",
      "8  &  0.20163  &  0.25280  &  0.31478\n",
      "9  &  0.20163  &  0.25280  &  0.31478\n",
      "10  &  0.20163  &  0.25280  &  0.31478\n",
      "-------------------------------\n",
      "0  &  0.20163  &  0.25280  &  0.31478\n",
      "1  &  0.20163  &  0.25280  &  0.31478\n",
      "2  &  0.20163  &  0.25280  &  0.31478\n",
      "3  &  0.20163  &  0.25280  &  0.31478\n",
      "4  &  0.20163  &  0.25280  &  0.31478\n",
      "5  &  0.20163  &  0.25280  &  0.31478\n",
      "6  &  0.20163  &  0.25280  &  0.31478\n",
      "7  &  0.20163  &  0.25280  &  0.31478\n",
      "8  &  0.20163  &  0.25280  &  0.31478\n",
      "9  &  0.20163  &  0.25280  &  0.31478\n",
      "10  &  0.20163  &  0.25280  &  0.31478\n",
      "-------------------------------\n",
      "0  &  0.20163  &  0.25280  &  0.31478\n",
      "1  &  0.20163  &  0.25280  &  0.31478\n",
      "2  &  0.20163  &  0.25280  &  0.31478\n",
      "3  &  0.20163  &  0.25280  &  0.31478\n",
      "4  &  0.20163  &  0.25280  &  0.31478\n",
      "5  &  0.20163  &  0.25280  &  0.31478\n",
      "6  &  0.20163  &  0.25280  &  0.31478\n",
      "7  &  0.20163  &  0.25280  &  0.31478\n",
      "8  &  0.20163  &  0.25280  &  0.31478\n",
      "9  &  0.20163  &  0.25280  &  0.31478\n",
      "10  &  0.20163  &  0.25280  &  0.31478\n",
      "-------------------------------\n"
     ]
    }
   ],
   "source": [
    "for p in pls:\n",
    "    print(0, ' & ', str(p[0])[:7] , ' & ' , str(p[1])[:7] , ' & ' , str(p[2])[:7] )\n",
    "    for itera in range(NITER):\n",
    "        p = em_algo(npheno, p)\n",
    "        print(itera + 1, ' & ', str(p[0])[:7] , ' & ' , str(p[1])[:7] , ' & ' , str(p[2])[:7] )\n",
    "    print(\"-------------------------------\")"
   ]
  }
 ],
 "metadata": {
  "kernelspec": {
   "display_name": "Python 3",
   "language": "python",
   "name": "python3"
  },
  "language_info": {
   "codemirror_mode": {
    "name": "ipython",
    "version": 3
   },
   "file_extension": ".py",
   "mimetype": "text/x-python",
   "name": "python",
   "nbconvert_exporter": "python",
   "pygments_lexer": "ipython3",
   "version": "3.6.5"
  }
 },
 "nbformat": 4,
 "nbformat_minor": 2
}
